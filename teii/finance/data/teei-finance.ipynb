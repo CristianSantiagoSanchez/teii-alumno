{
 "cells": [
  {
   "cell_type": "markdown",
   "id": "precise-spencer",
   "metadata": {},
   "source": [
    "# Data Sampling"
   ]
  },
  {
   "cell_type": "code",
   "execution_count": 2,
   "id": "average-genome",
   "metadata": {
    "tags": []
   },
   "outputs": [],
   "source": [
    "import json\n",
    "import random\n",
    "import requests"
   ]
  },
  {
   "cell_type": "code",
   "execution_count": 2,
   "id": "popular-tourist",
   "metadata": {},
   "outputs": [],
   "source": [
    "## NO EJECUTAR PORQUE SE ACTUALIZA .JSON Y FALLAN LOS TEST\n",
    "def get_dataset(ticker):\n",
    "    t_query = f'https://www.alphavantage.co/query?function=TIME_SERIES_DAILY_ADJUSTED&symbol={ticker}&outputsize=full&apikey=YEJWMRYCM11RUFUZ&data_type=json'\n",
    "    response = requests.get(t_query)\n",
    "    json_data_downloaded = response.json()\n",
    "    return json_data_downloaded\n",
    "\n",
    "ticker='IBM'\n",
    "\n",
    "with open(f\"TIME_SERIES_DAILY_ADJUSTED.IBM.json\", 'w') as outfile:\n",
    "    outfile.write(json.dumps(get_dataset(ticker), indent=4))"
   ]
  },
  {
   "cell_type": "markdown",
   "id": "aggregate-warner",
   "metadata": {},
   "source": [
    "# Data Processing with `pandas`"
   ]
  },
  {
   "cell_type": "code",
   "execution_count": 3,
   "id": "controlling-austria",
   "metadata": {},
   "outputs": [
    {
     "name": "stdout",
     "output_type": "stream",
     "text": [
      "('2012-07-23', {'1. open': '189.78', '2. high': '191.3', '3. low': '188.2', '4. close': '190.83', '5. adjusted close': '137.748612337', '6. volume': '3904500', '7. dividend amount': '0.0000', '8. split coefficient': '1.0'})\n"
     ]
    }
   ],
   "source": [
    "with open(\"TIME_SERIES_DAILY_ADJUSTED.IBM.json\") as json_file:\n",
    "    data = json.load(json_file)[\"Time Series (Daily)\"]\n",
    "\n",
    "print(random.choice(list(data.items())))"
   ]
  },
  {
   "cell_type": "markdown",
   "id": "absolute-identity",
   "metadata": {},
   "source": [
    "## Adjust index and values types"
   ]
  },
  {
   "cell_type": "code",
   "execution_count": 4,
   "id": "racial-assault",
   "metadata": {
    "tags": []
   },
   "outputs": [
    {
     "name": "stdout",
     "output_type": "stream",
     "text": [
      "              open     high     low   close      aclose   volume  dividend  \\\n",
      "2021-05-11  144.99  145.190  142.90  144.22  144.220000  7121499      0.00   \n",
      "2021-05-10  145.80  148.380  145.80  146.17  146.170000  6983377      0.00   \n",
      "2021-05-07  145.92  146.140  144.57  145.46  145.460000  7003467      1.64   \n",
      "2021-05-06  145.26  148.515  145.18  148.42  146.765283  7503487      0.00   \n",
      "2021-05-05  145.94  145.940  144.97  145.22  143.600960  3622800      0.00   \n",
      "\n",
      "            splitc  \n",
      "2021-05-11     1.0  \n",
      "2021-05-10     1.0  \n",
      "2021-05-07     1.0  \n",
      "2021-05-06     1.0  \n",
      "2021-05-05     1.0  \n",
      "DatetimeIndex(['2021-05-11', '2021-05-10', '2021-05-07', '2021-05-06',\n",
      "               '2021-05-05', '2021-05-04', '2021-05-03', '2021-04-30',\n",
      "               '2021-04-29', '2021-04-28',\n",
      "               ...\n",
      "               '1999-11-12', '1999-11-11', '1999-11-10', '1999-11-09',\n",
      "               '1999-11-08', '1999-11-05', '1999-11-04', '1999-11-03',\n",
      "               '1999-11-02', '1999-11-01'],\n",
      "              dtype='datetime64[ns]', length=5416, freq=None)\n",
      "Index(['open', 'high', 'low', 'close', 'aclose', 'volume', 'dividend',\n",
      "       'splitc'],\n",
      "      dtype='object')\n",
      "open        float64\n",
      "high        float64\n",
      "low         float64\n",
      "close       float64\n",
      "aclose      float64\n",
      "volume        int32\n",
      "dividend    float64\n",
      "splitc      float64\n",
      "dtype: object\n"
     ]
    }
   ],
   "source": [
    "import numpy as np\n",
    "import pandas as pd\n",
    "\n",
    "data_field2name_type = {\n",
    "    \"1. open\":                  (\"open\",     \"float\"),\n",
    "    \"2. high\":                  (\"high\",     \"float\"),\n",
    "    \"3. low\":                   (\"low\",      \"float\"),\n",
    "    \"4. close\":                 (\"close\",    \"float\"),\n",
    "    \"5. adjusted close\":        (\"aclose\",   \"float\"),\n",
    "    \"6. volume\":                (\"volume\",   np.int32),\n",
    "    \"7. dividend amount\":       (\"dividend\", \"float\"),\n",
    "    \"8. split coefficient\":     (\"splitc\",   \"float\"),\n",
    "}\n",
    "\n",
    "df = pd.DataFrame.from_dict(data, orient = 'index', dtype=float)\n",
    "\n",
    "df = df.rename(columns={ key: name_type[0] for key, name_type in data_field2name_type.items() })\n",
    "\n",
    "df = df.astype(dtype={ name_type[0]: name_type[1] for key, name_type in data_field2name_type.items() })\n",
    "\n",
    "df.index = df.index.astype(\"datetime64[ns]\")\n",
    "\n",
    "print(df.head())\n",
    "print(df.index)\n",
    "print(df.columns)\n",
    "print(df.dtypes)"
   ]
  },
  {
   "cell_type": "markdown",
   "id": "worth-turtle",
   "metadata": {},
   "source": [
    "## Sort values by index"
   ]
  },
  {
   "cell_type": "code",
   "execution_count": 5,
   "id": "framed-colors",
   "metadata": {},
   "outputs": [
    {
     "name": "stdout",
     "output_type": "stream",
     "text": [
      "<bound method NDFrame.head of               open     high     low   close      aclose    volume  dividend  \\\n",
      "1999-11-01   98.50   98.810   96.37   96.75   60.047458   9551800      0.00   \n",
      "1999-11-02   96.75   96.810   93.69   94.81   58.843405  11105400      0.00   \n",
      "1999-11-03   95.87   95.940   93.50   94.37   58.570321  10369100      0.00   \n",
      "1999-11-04   94.44   94.440   90.00   91.56   56.826307  16697600      0.00   \n",
      "1999-11-05   92.75   92.940   90.19   90.25   56.013262  13737600      0.00   \n",
      "...            ...      ...     ...     ...         ...       ...       ...   \n",
      "2021-05-05  145.94  145.940  144.97  145.22  143.600960   3622800      0.00   \n",
      "2021-05-06  145.26  148.515  145.18  148.42  146.765283   7503487      0.00   \n",
      "2021-05-07  145.92  146.140  144.57  145.46  145.460000   7003467      1.64   \n",
      "2021-05-10  145.80  148.380  145.80  146.17  146.170000   6983377      0.00   \n",
      "2021-05-11  144.99  145.190  142.90  144.22  144.220000   7121499      0.00   \n",
      "\n",
      "            splitc  \n",
      "1999-11-01     1.0  \n",
      "1999-11-02     1.0  \n",
      "1999-11-03     1.0  \n",
      "1999-11-04     1.0  \n",
      "1999-11-05     1.0  \n",
      "...            ...  \n",
      "2021-05-05     1.0  \n",
      "2021-05-06     1.0  \n",
      "2021-05-07     1.0  \n",
      "2021-05-10     1.0  \n",
      "2021-05-11     1.0  \n",
      "\n",
      "[5416 rows x 8 columns]>\n"
     ]
    }
   ],
   "source": [
    "df = df.sort_index(ascending=True)\n",
    "\n",
    "print(df.head)"
   ]
  },
  {
   "cell_type": "markdown",
   "id": "negative-fireplace",
   "metadata": {},
   "source": [
    "## Plot adjusted daily price"
   ]
  },
  {
   "cell_type": "code",
   "execution_count": 6,
   "id": "banner-province",
   "metadata": {},
   "outputs": [
    {
     "name": "stdout",
     "output_type": "stream",
     "text": [
      "1999-11-01     96.75\n",
      "1999-11-02     94.81\n",
      "1999-11-03     94.37\n",
      "1999-11-04     91.56\n",
      "1999-11-05     90.25\n",
      "               ...  \n",
      "2021-05-05    145.22\n",
      "2021-05-06    148.42\n",
      "2021-05-07    145.46\n",
      "2021-05-10    146.17\n",
      "2021-05-11    144.22\n",
      "Name: close, Length: 5416, dtype: float64\n",
      "Business days: 5416\n"
     ]
    },
    {
     "data": {
      "text/plain": [
       "<AxesSubplot:>"
      ]
     },
     "execution_count": 6,
     "metadata": {},
     "output_type": "execute_result"
    },
    {
     "data": {
      "image/png": "[encoded data removed]",
      "text/plain": [
       "<Figure size 432x288 with 1 Axes>"
      ]
     },
     "metadata": {
      "needs_background": "light"
     },
     "output_type": "display_data"
    }
   ],
   "source": [
    "s = df['close']\n",
    "\n",
    "print(s)\n",
    "print(f\"Business days: {s.count()}\")\n",
    "s.plot()"
   ]
  },
  {
   "cell_type": "code",
   "execution_count": 7,
   "id": "objective-volleyball",
   "metadata": {},
   "outputs": [],
   "source": [
    "s.to_csv('TIME_SERIES_DAILY_ADJUSTED.IBM.prices.unfiltered.csv')"
   ]
  },
  {
   "cell_type": "markdown",
   "id": "brutal-summer",
   "metadata": {
    "tags": []
   },
   "source": [
    "## Plot adjusted daily price by date"
   ]
  },
  {
   "cell_type": "code",
   "execution_count": 12,
   "id": "protective-rebecca",
   "metadata": {},
   "outputs": [
    {
     "name": "stdout",
     "output_type": "stream",
     "text": [
      "2021-01-04    123.94\n",
      "2021-01-05    126.14\n",
      "2021-01-06    129.29\n",
      "2021-01-07    128.99\n",
      "2021-01-08    128.53\n",
      "2021-01-11    128.58\n",
      "2021-01-12    129.21\n",
      "2021-01-13    126.92\n",
      "2021-01-14    128.97\n",
      "2021-01-15    128.39\n",
      "2021-01-19    129.02\n",
      "2021-01-20    130.08\n",
      "2021-01-21    131.65\n",
      "2021-01-22    118.61\n",
      "2021-01-25    118.58\n",
      "2021-01-26    122.49\n",
      "2021-01-27    122.47\n",
      "2021-01-28    120.08\n",
      "2021-01-29    119.11\n",
      "2021-02-01    120.54\n",
      "2021-02-02    119.44\n",
      "2021-02-03    119.12\n",
      "2021-02-04    121.02\n",
      "2021-02-05    121.79\n",
      "2021-02-08    123.61\n",
      "2021-02-09    122.10\n",
      "2021-02-10    122.24\n",
      "2021-02-11    120.91\n",
      "2021-02-12    120.80\n",
      "2021-02-16    120.07\n",
      "2021-02-17    119.97\n",
      "2021-02-18    120.73\n",
      "2021-02-19    118.99\n",
      "2021-02-22    120.86\n",
      "2021-02-23    120.71\n",
      "2021-02-24    123.21\n",
      "2021-02-25    122.47\n",
      "2021-02-26    118.93\n",
      "Name: close, dtype: float64\n",
      "Business days: 38\n"
     ]
    },
    {
     "data": {
      "text/plain": [
       "<AxesSubplot:>"
      ]
     },
     "execution_count": 12,
     "metadata": {},
     "output_type": "execute_result"
    },
    {
     "data": {
      "image/png": "[encoded data removed]",
      "text/plain": [
       "<Figure size 432x288 with 1 Axes>"
      ]
     },
     "metadata": {
      "needs_background": "light"
     },
     "output_type": "display_data"
    }
   ],
   "source": [
    "# import matplotlib.pyplot as plt\n",
    "# plt.plot(df['aclose'].to_numpy())\n",
    "# plt.show()\n",
    "\n",
    "import datetime\n",
    "\n",
    "s = df['close']\n",
    "\n",
    "s = s.loc[datetime.date(year=2021,month=1,day=1):datetime.date(year=2021,month=2,day=28)]\n",
    "\n",
    "print(s)\n",
    "print(f\"Business days: {s.count()}\")\n",
    "s.plot()"
   ]
  },
  {
   "cell_type": "code",
   "execution_count": 9,
   "id": "herbal-subdivision",
   "metadata": {},
   "outputs": [],
   "source": [
    "#s.to_csv('TIME_SERIES_DAILY_ADJUSTED.IBM.prices.filtered.csv')"
   ]
  },
  {
   "cell_type": "markdown",
   "id": "44f97991",
   "metadata": {},
   "source": [
    "## csv unfiltered"
   ]
  },
  {
   "cell_type": "code",
   "execution_count": null,
   "id": "31187cbb",
   "metadata": {},
   "outputs": [],
   "source": [
    "s = df\n",
    "#s.to_csv('TIME_SERIES_DAILY_ADJUSTED.IBM.unfiltered.csv')#no ejecutar si ya obtenido"
   ]
  },
  {
   "cell_type": "markdown",
   "id": "3dea5483",
   "metadata": {},
   "source": [
    "## csv volume filtered"
   ]
  },
  {
   "cell_type": "code",
   "execution_count": null,
   "id": "d10657cf",
   "metadata": {},
   "outputs": [],
   "source": [
    "s = df['volume']\n",
    "s = s.loc[datetime.date(year=2021,month=1,day=1):datetime.date(year=2021,month=2,day=28)]\n",
    "#s.to_csv('TIME_SERIES_DAILY_ADJUSTED.IBM.volume.filtered.csv')#no ejecutar si ya obtenido"
   ]
  },
  {
   "cell_type": "markdown",
   "id": "5c4fcf44",
   "metadata": {},
   "source": [
    "## csv yearly dividend"
   ]
  },
  {
   "cell_type": "code",
   "execution_count": 22,
   "id": "0d0634d6",
   "metadata": {},
   "outputs": [
    {
     "data": {
      "text/plain": [
       "2010    2.50\n",
       "2011    2.90\n",
       "2012    3.30\n",
       "2013    3.70\n",
       "2014    4.25\n",
       "2015    5.00\n",
       "2016    5.50\n",
       "2017    5.90\n",
       "2018    6.21\n",
       "2019    6.43\n",
       "2020    6.51\n",
       "2021    3.27\n",
       "Name: dividend, dtype: float64"
      ]
     },
     "execution_count": 22,
     "metadata": {},
     "output_type": "execute_result"
    }
   ],
   "source": [
    "s = df['dividend'].groupby(pd.Grouper(level=0, freq='1YS')).sum()\n",
    "s.index = s.index.strftime('%Y')\n",
    "s = s.loc[\"2010\":\"2021\"]\n",
    "#s.to_csv('TIME_SERIES_DAILY_ADJUSTED.IBM.yearly_dividends.filtered.csv')"
   ]
  },
  {
   "cell_type": "markdown",
   "id": "e97bbf5a",
   "metadata": {},
   "source": [
    "## csv yearly dividen per quarter"
   ]
  },
  {
   "cell_type": "code",
   "execution_count": 7,
   "id": "e468bc2f",
   "metadata": {},
   "outputs": [],
   "source": [
    "s = df['dividend'].resample('QS').sum()\n",
    "s = s.loc[str(1999):str(2007)]\n",
    "s.to_csv('TIME_SERIES_DAILY_ADJUSTED.IBM.yearly_dividends_quarter.filtered.csv')"
   ]
  },
  {
   "cell_type": "code",
   "execution_count": null,
   "id": "1b192326",
   "metadata": {},
   "outputs": [],
   "source": []
  }
 ],
 "metadata": {
  "kernelspec": {
   "display_name": "Python 3",
   "language": "python",
   "name": "python3"
  },
  "language_info": {
   "codemirror_mode": {
    "name": "ipython",
    "version": 3
   },
   "file_extension": ".py",
   "mimetype": "text/x-python",
   "name": "python",
   "nbconvert_exporter": "python",
   "pygments_lexer": "ipython3",
   "version": "3.7.10"
  },
  "toc": {
   "base_numbering": 1,
   "nav_menu": {},
   "number_sections": true,
   "sideBar": true,
   "skip_h1_title": false,
   "title_cell": "Table of Contents",
   "title_sidebar": "Contents",
   "toc_cell": false,
   "toc_position": {},
   "toc_section_display": true,
   "toc_window_display": false
  }
 },
 "nbformat": 4,
 "nbformat_minor": 5
}
